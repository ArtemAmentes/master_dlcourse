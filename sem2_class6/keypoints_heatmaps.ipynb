{
  "nbformat": 4,
  "nbformat_minor": 0,
  "metadata": {
    "colab": {
      "provenance": []
    },
    "kernelspec": {
      "name": "python3",
      "display_name": "Python 3"
    },
    "language_info": {
      "name": "python"
    }
  },
  "cells": [
    {
      "cell_type": "markdown",
      "source": [
        "https://arxiv.org/pdf/2003.04030.pdf"
      ],
      "metadata": {
        "id": "Ku_eq0kBCe4M"
      }
    },
    {
      "cell_type": "markdown",
      "source": [
        "### Архитектура"
      ],
      "metadata": {
        "id": "pjLaX65sChnp"
      }
    },
    {
      "cell_type": "code",
      "source": [
        "import torch\n",
        "from torch import nn"
      ],
      "metadata": {
        "id": "xqX4w_t23MES"
      },
      "execution_count": null,
      "outputs": []
    },
    {
      "cell_type": "code",
      "source": [
        "class conv_bn_relu(nn.Module):\n",
        "\n",
        "    def __init__(self, in_planes, out_planes, kernel_size, stride, padding, \n",
        "            has_bn=True, has_relu=True, groups=1):\n",
        "        super(conv_bn_relu, self).__init__()\n",
        "        self.conv = nn.Conv2d(in_planes, out_planes, kernel_size=kernel_size,\n",
        "                stride=stride, padding=padding, groups=groups)\n",
        "        self.has_bn = has_bn\n",
        "        self.has_relu = has_relu\n",
        "        self.bn = nn.BatchNorm2d(out_planes)\n",
        "        self.relu = nn.ReLU(inplace=True)\n",
        "\n",
        "    def forward(self, x):\n",
        "        def _func_factory(conv, bn, relu, has_bn, has_relu):\n",
        "            def func(x):\n",
        "                x = conv(x)\n",
        "                if has_bn:\n",
        "                    x = bn(x)\n",
        "                if has_relu:\n",
        "                    x = relu(x)\n",
        "                return x\n",
        "            return func \n",
        "\n",
        "        func = _func_factory(\n",
        "                self.conv, self.bn, self.relu, self.has_bn, self.has_relu)\n",
        "\n",
        "        return func(x)"
      ],
      "metadata": {
        "id": "DUg-EQ5p3UZb"
      },
      "execution_count": null,
      "outputs": []
    },
    {
      "cell_type": "code",
      "source": [
        "class PRM(nn.Module):\n",
        "\n",
        "    def __init__(self, output_chl_num):\n",
        "        super(PRM, self).__init__()\n",
        "\n",
        "    def forward(self, x):\n",
        "\n",
        "        return out"
      ],
      "metadata": {
        "id": "7fKN9OL-ycuD"
      },
      "execution_count": null,
      "outputs": []
    },
    {
      "cell_type": "code",
      "source": [
        "test_input = torch.rand((10, 256, 32, 32))\n",
        "prm = PRM(256)"
      ],
      "metadata": {
        "id": "xyewZuN-3-l3"
      },
      "execution_count": null,
      "outputs": []
    },
    {
      "cell_type": "markdown",
      "source": [
        "### Данные: ключевые точки и heatmaps"
      ],
      "metadata": {
        "id": "xEVNMdr6CnEv"
      }
    },
    {
      "cell_type": "markdown",
      "source": [
        "https://github.com/caiyuanhao1998/RSN/blob/319961faa057ce49caffb274ae761a93e36f47d7/dataset/JointsDataset.py#L143"
      ],
      "metadata": {
        "id": "3CP8qFRAG7zr"
      }
    },
    {
      "cell_type": "markdown",
      "source": [
        "https://github.com/caiyuanhao1998/RSN/blob/319961faa057ce49caffb274ae761a93e36f47d7/dataset/JointsDataset.py#L216"
      ],
      "metadata": {
        "id": "JMY2pgxfHBMF"
      }
    },
    {
      "cell_type": "code",
      "source": [
        "gaussian_kernels = [(11, 11), (9, 9), (7, 7), (5, 5)]\n",
        "keypoint_num = 3\n",
        "output_shape = (256, 256)\n",
        "input_shape = (256, 256)"
      ],
      "metadata": {
        "id": "8NBAz_M9I-ol"
      },
      "execution_count": null,
      "outputs": []
    },
    {
      "cell_type": "code",
      "source": [
        "import torch\n",
        "import numpy as np\n",
        "import cv2\n",
        "\n",
        "def generate_heatmap(joints, valid, kernel=(7, 7)):\n",
        "    heatmaps = np.zeros(\n",
        "            (keypoint_num, *output_shape), dtype='float32')\n",
        "\n",
        "    for i in range(keypoint_num):\n",
        "        if valid[i] < 1:\n",
        "            continue\n",
        "        target_y = joints[i, 1] * output_shape[0] \\\n",
        "                / input_shape[0]\n",
        "        target_x = joints[i, 0] * output_shape[1] \\\n",
        "                / input_shape[1]\n",
        "        heatmaps[i, int(target_y), int(target_x)] = 1\n",
        "        heatmaps[i] = cv2.GaussianBlur(heatmaps[i], kernel, 0)\n",
        "        maxi = np.amax(heatmaps[i])\n",
        "        if maxi <= 1e-8:\n",
        "            continue\n",
        "        heatmaps[i] /= maxi / 255\n",
        "\n",
        "    return heatmaps "
      ],
      "metadata": {
        "id": "9bAaARKaHKds"
      },
      "execution_count": null,
      "outputs": []
    },
    {
      "cell_type": "code",
      "source": [
        "joints = np.array([[30, 30], [120, 120], [200, 200]]) #change to keypoint_num\n",
        "valid = np.ones((keypoint_num, ))\n",
        "\n",
        "labels_num = len(gaussian_kernels)\n",
        "labels = np.zeros(\n",
        "        (labels_num, keypoint_num, *output_shape))\n",
        "for i in range(labels_num):\n",
        "    labels[i] = generate_heatmap(\n",
        "            joints, valid, kernel=gaussian_kernels[i])\n",
        "labels = torch.from_numpy(labels).float()\n",
        "labels.shape"
      ],
      "metadata": {
        "id": "aLydyf-vH9su",
        "colab": {
          "base_uri": "https://localhost:8080/"
        },
        "outputId": "81c45eac-01a3-460e-8c9e-ad58c52c596f"
      },
      "execution_count": null,
      "outputs": [
        {
          "output_type": "execute_result",
          "data": {
            "text/plain": [
              "torch.Size([4, 3, 256, 256])"
            ]
          },
          "metadata": {},
          "execution_count": 6
        }
      ]
    },
    {
      "cell_type": "code",
      "source": [
        "labels = labels.sum(dim=1)\n",
        "labels = labels[0].numpy().astype(np.uint8)"
      ],
      "metadata": {
        "id": "q7VMpolhN_gz"
      },
      "execution_count": null,
      "outputs": []
    },
    {
      "cell_type": "code",
      "source": [
        "color = cv2.applyColorMap(labels, cv2.COLORMAP_JET)"
      ],
      "metadata": {
        "id": "AxN8b8fcJ6gs"
      },
      "execution_count": null,
      "outputs": []
    },
    {
      "cell_type": "code",
      "source": [
        "cv2.imwrite(\"output.png\", color)"
      ],
      "metadata": {
        "colab": {
          "base_uri": "https://localhost:8080/"
        },
        "id": "GuuhYwAGOi6D",
        "outputId": "eda0c6ba-35bd-429d-fa9e-8fb169b24cdd"
      },
      "execution_count": null,
      "outputs": [
        {
          "output_type": "execute_result",
          "data": {
            "text/plain": [
              "True"
            ]
          },
          "metadata": {},
          "execution_count": 9
        }
      ]
    },
    {
      "cell_type": "markdown",
      "source": [
        "**keypoints_from_heatmaps**\n",
        "https://mmpose.readthedocs.io/en/latest/_modules/mmpose/core/evaluation/top_down_eval.html#keypoints_from_heatmaps\n",
        "\n",
        "heatmaps (np.ndarray[N, K, H, W]) – model predicted heatmaps.\n",
        "\n",
        "center (np.ndarray[N, 2]) – Center of the bounding box (x, y).\n",
        "\n",
        "scale (np.ndarray[N, 2]) – Scale of the bounding box wrt height/width\n"
      ],
      "metadata": {
        "id": "dKGPf1X7Fh2n"
      }
    },
    {
      "cell_type": "markdown",
      "source": [
        "**Домашнее задание:**"
      ],
      "metadata": {
        "id": "tgUNIdG6fZNR"
      }
    },
    {
      "cell_type": "markdown",
      "source": [
        "Попробовать с использованием библиотеки FiftyOne выгрузить частичную выборку датасета ключевых точек людей из COCO и обучиться на этой подвыборке."
      ],
      "metadata": {
        "id": "nN0qgUyI6yki"
      }
    },
    {
      "cell_type": "code",
      "source": [
        "https://docs.voxel51.com/integrations/coco.html\n",
        "https://github.com/caiyuanhao1998/RSN\n",
        "Pycoco tools"
      ],
      "metadata": {
        "id": "jDwNzjw-Sa19"
      },
      "execution_count": null,
      "outputs": []
    }
  ]
}