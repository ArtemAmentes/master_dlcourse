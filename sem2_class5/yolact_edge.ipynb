{
  "nbformat": 4,
  "nbformat_minor": 0,
  "metadata": {
    "colab": {
      "provenance": []
    },
    "kernelspec": {
      "name": "python3",
      "display_name": "Python 3"
    },
    "language_info": {
      "name": "python"
    }
  },
  "cells": [
    {
      "cell_type": "markdown",
      "source": [
        "Yolact - https://arxiv.org/pdf/1904.02689.pdf  \n",
        "YolactEdge - https://arxiv.org/pdf/2012.12259.pdf  \n",
        "YolactEdge code - https://github.com/haotian-liu/yolact_edge  "
      ],
      "metadata": {
        "id": "rH_viKFzGoax"
      }
    },
    {
      "cell_type": "markdown",
      "source": [
        "YolactEdge forward - https://github.com/haotian-liu/yolact_edge/blob/873fceb3883a2d3fac8481230b6f34346142719a/yolact_edge/yolact.py#L1611"
      ],
      "metadata": {
        "id": "PUTR1W7QN3hr"
      }
    },
    {
      "cell_type": "markdown",
      "source": [
        "# 1. Feature Backbone"
      ],
      "metadata": {
        "id": "2P7R3K6wIaJu"
      }
    },
    {
      "cell_type": "markdown",
      "source": [
        "https://github.com/haotian-liu/yolact_edge/blob/master/yolact_edge/backbone.py"
      ],
      "metadata": {
        "id": "IgpzvG-mIi6T"
      }
    },
    {
      "cell_type": "markdown",
      "source": [
        "# 2. Feature Pyramid\n"
      ],
      "metadata": {
        "id": "xF2EZtaMKT2L"
      }
    },
    {
      "cell_type": "markdown",
      "source": [
        "https://github.com/haotian-liu/yolact_edge/blob/873fceb3883a2d3fac8481230b6f34346142719a/yolact_edge/yolact.py#L1637  \n",
        "https://github.com/haotian-liu/yolact_edge/blob/873fceb3883a2d3fac8481230b6f34346142719a/yolact_edge/yolact.py#L1701"
      ],
      "metadata": {
        "id": "kZpuve25KYYi"
      }
    },
    {
      "cell_type": "markdown",
      "source": [
        "Почему две части FPN?"
      ],
      "metadata": {
        "id": "VTYRq2PRThNh"
      }
    },
    {
      "cell_type": "markdown",
      "source": [
        "# 3. Feature Warping on non-key frame"
      ],
      "metadata": {
        "id": "0AbaPbaPUOMc"
      }
    },
    {
      "cell_type": "markdown",
      "source": [
        "https://github.com/haotian-liu/yolact_edge/blob/873fceb3883a2d3fac8481230b6f34346142719a/yolact_edge/yolact.py#L1657  \n",
        "https://github.com/haotian-liu/yolact_edge/blob/873fceb3883a2d3fac8481230b6f34346142719a/yolact_edge/layers/warp_utils.py  \n",
        "https://pytorch.org/docs/stable/generated/torch.nn.functional.grid_sample.html"
      ],
      "metadata": {
        "id": "27p5ZyQDUWYG"
      }
    },
    {
      "cell_type": "markdown",
      "source": [
        "# 4.ProtoNet"
      ],
      "metadata": {
        "id": "a4lzXIjybyNE"
      }
    },
    {
      "cell_type": "markdown",
      "source": [
        "Yolact  - 3.1. Prototype Generation"
      ],
      "metadata": {
        "id": "7RbgR-JOeyIv"
      }
    },
    {
      "cell_type": "markdown",
      "source": [
        "https://github.com/haotian-liu/yolact_edge/blob/873fceb3883a2d3fac8481230b6f34346142719a/yolact_edge/yolact.py#L1724  \n",
        "https://github.com/haotian-liu/yolact_edge/blob/873fceb3883a2d3fac8481230b6f34346142719a/yolact_edge/yolact.py#L57"
      ],
      "metadata": {
        "id": "JMemf9wMb1ef"
      }
    },
    {
      "cell_type": "markdown",
      "source": [
        "# 5. PredHead"
      ],
      "metadata": {
        "id": "KZsgiAxVfLuM"
      }
    },
    {
      "cell_type": "markdown",
      "source": [
        "Yolact  - 3.2. Mask Coefficients"
      ],
      "metadata": {
        "id": "zf_xQP52fQBZ"
      }
    },
    {
      "cell_type": "markdown",
      "source": [
        "https://github.com/haotian-liu/yolact_edge/blob/873fceb3883a2d3fac8481230b6f34346142719a/yolact_edge/yolact.py#L110"
      ],
      "metadata": {
        "id": "22h9yaMWf0MB"
      }
    },
    {
      "cell_type": "markdown",
      "source": [
        "# 6. FlowNet pretrain"
      ],
      "metadata": {
        "id": "vrRLQNuWTGzR"
      }
    },
    {
      "cell_type": "markdown",
      "source": [
        "3.B.Loss_Functions - For\n",
        "flow estimation network pre-training, like [15], we use the\n",
        "endpoint error (EPE).\n"
      ],
      "metadata": {
        "id": "1tM5kbvsTOTM"
      }
    },
    {
      "cell_type": "markdown",
      "source": [
        "https://github.com/haotian-liu/yolact_edge/blob/873fceb3883a2d3fac8481230b6f34346142719a/yolact_edge/yolact.py#L1614  \n",
        "https://github.com/haotian-liu/yolact_edge/blob/873fceb3883a2d3fac8481230b6f34346142719a/yolact_edge/yolact.py#L1413"
      ],
      "metadata": {
        "id": "sqYJPBgqTZS2"
      }
    },
    {
      "cell_type": "markdown",
      "source": [
        "# 7. Loss"
      ],
      "metadata": {
        "id": "aGEbjzYHgTMz"
      }
    },
    {
      "cell_type": "markdown",
      "source": [
        "https://github.com/haotian-liu/yolact_edge/blob/a9a00281b33b3ac90253a4939773308a8f95e21d/yolact_edge/layers/modules/optical_flow_loss.py"
      ],
      "metadata": {
        "id": "Cyclf8kdgVMZ"
      }
    },
    {
      "cell_type": "markdown",
      "source": [
        "https://github.com/haotian-liu/yolact_edge/blob/a9a00281b33b3ac90253a4939773308a8f95e21d/yolact_edge/layers/modules/multibox_loss.py"
      ],
      "metadata": {
        "id": "sdZggBW8ghFg"
      }
    },
    {
      "cell_type": "markdown",
      "source": [
        "Loss as in https://arxiv.org/pdf/1512.02325.pdf + MaskLoss:BCE(M, Mgt)"
      ],
      "metadata": {
        "id": "q-dZL3zshBxa"
      }
    }
  ]
}