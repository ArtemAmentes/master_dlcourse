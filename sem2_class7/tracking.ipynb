{
  "nbformat": 4,
  "nbformat_minor": 0,
  "metadata": {
    "colab": {
      "provenance": []
    },
    "kernelspec": {
      "name": "python3",
      "display_name": "Python 3"
    },
    "language_info": {
      "name": "python"
    }
  },
  "cells": [
    {
      "cell_type": "markdown",
      "source": [
        "# SORT - detection, estimation, association, track"
      ],
      "metadata": {
        "id": "JGu4fUu5-ciF"
      }
    },
    {
      "cell_type": "markdown",
      "source": [
        "https://arxiv.org/pdf/1602.00763.pdf"
      ],
      "metadata": {
        "id": "KboYrEjv-8Jm"
      }
    },
    {
      "cell_type": "markdown",
      "source": [
        "https://colab.research.google.com/github/mlvlab/COSE474/blob/master/3_Object_Detection_and_MOT_tutorial.ipynb#scrollTo=vUB25un4yJsX"
      ],
      "metadata": {
        "id": "6iBbA1Cb_CC0"
      }
    },
    {
      "cell_type": "markdown",
      "source": [
        "# SORT variations"
      ],
      "metadata": {
        "id": "42qO2UdwK9gP"
      }
    },
    {
      "cell_type": "markdown",
      "source": [
        "https://paperswithcode.com/sota/multi-object-tracking-on-mot20-1"
      ],
      "metadata": {
        "id": "nInZ4EnIK_qa"
      }
    },
    {
      "cell_type": "markdown",
      "source": [
        "**DeepSort** - https://arxiv.org/pdf/1703.07402.pdf\n",
        "\n",
        "\"In this paper, we integrate appearance\n",
        "information to improve the performance of SORT\""
      ],
      "metadata": {
        "id": "Ekr9ZwQGLqBp"
      }
    },
    {
      "cell_type": "markdown",
      "source": [
        "**OC-SORT** - https://arxiv.org/pdf/2203.14360v3.pdf\n",
        "\n",
        "In this work, we show that a basic Kalman filter can still obtain state-of-the-art tracking performance if proper care is taken to fix the noise accumulated during occlusion. Instead of relying only on the linear state estimate (i.e., estimation-centric approach), we use object observations (i.e., the measurements by object detector) to compute a virtual trajectory over the occlusion period to fix the error accumulation of filter parameters during the occlusion period."
      ],
      "metadata": {
        "id": "JnxKp2zKOJor"
      }
    },
    {
      "cell_type": "markdown",
      "source": [
        "**ByteTrack** - https://arxiv.org/pdf/2110.06864v3.pdf\n",
        "\n",
        "The objects with low detection scores, e.g. occluded objects, are simply thrown away, which brings non-negligible true object missing and fragmented trajectories. To solve this problem, we present a simple, effective and generic association method, tracking by associating almost every detection box instead of only the high score ones. For the low score detection boxes, we utilize their similarities with tracklets to recover true objects and filter out the background detections. "
      ],
      "metadata": {
        "id": "M9RPWwpARfXy"
      }
    },
    {
      "cell_type": "markdown",
      "source": [
        "**StrongSORT** - https://arxiv.org/pdf/2202.13514v2.pdf\n",
        "\n",
        "Moreover, two lightweight and\n",
        "plug-and-play algorithms are proposed to address two inherent\n",
        "“missing” problems of MOT: missing association and missing\n",
        "detection. Specifically, unlike most methods, which associate short tracklets into complete trajectories at high computation complexity, we propose an appearance-free link model (AFLink) to perform global association without appearance information, and achieve a good balance between speed and accuracy. Furthermore, we propose a Gaussian-smoothed interpolation (GSI) based on Gaussian process regression to relieve the missing detection. "
      ],
      "metadata": {
        "id": "YP0fhrx4Qwmx"
      }
    },
    {
      "cell_type": "markdown",
      "source": [
        "# Transformer"
      ],
      "metadata": {
        "id": "HKeK7YCR5-rl"
      }
    },
    {
      "cell_type": "markdown",
      "source": [
        "**TrackFormer** - https://arxiv.org/pdf/2101.02702v3.pdf"
      ],
      "metadata": {
        "id": "os6mbqCuXNpU"
      }
    },
    {
      "cell_type": "markdown",
      "source": [
        "# Домашнее задание"
      ],
      "metadata": {
        "id": "HgemKnM45nLO"
      }
    },
    {
      "cell_type": "markdown",
      "source": [
        "Приспособить SORT для любой вашей задачи трекинга и предложить варианты улучшения алгоритма под задачу. Желательно избегать повторений улучшений, рассмотренных на семинаре в SORT-подобных методах."
      ],
      "metadata": {
        "id": "J0W4qdUw5pvE"
      }
    }
  ]
}