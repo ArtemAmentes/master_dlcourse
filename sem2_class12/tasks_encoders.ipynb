{
  "nbformat": 4,
  "nbformat_minor": 0,
  "metadata": {
    "colab": {
      "provenance": []
    },
    "kernelspec": {
      "name": "python3",
      "display_name": "Python 3"
    },
    "language_info": {
      "name": "python"
    }
  },
  "cells": [
    {
      "cell_type": "markdown",
      "source": [
        "### Perceiver"
      ],
      "metadata": {
        "id": "4u65sWHEPmpr"
      }
    },
    {
      "cell_type": "markdown",
      "source": [
        "Теория:\n",
        "\n",
        "\n",
        "*   DeepMind - https://www.youtube.com/watch?v=YBkOILybiNo\n",
        "*   Perceiver - https://arxiv.org/abs/2103.03206\n",
        "*   PerceiverIO - https://arxiv.org/pdf/2107.14795.pdf\n",
        "*   PerceiverAR - https://arxiv.org/pdf/2202.07765.pdf\n",
        "\n",
        "\n"
      ],
      "metadata": {
        "id": "OCcb6c7MiKve"
      }
    },
    {
      "cell_type": "markdown",
      "source": [
        "Код:\n",
        "\n",
        "\n",
        "*   https://github.com/krasserm/perceiver-io\n",
        "*   https://github.com/krasserm/perceiver-io/blob/main/examples/inference.ipynb\n",
        "\n"
      ],
      "metadata": {
        "id": "1a8b5uAfi1Cb"
      }
    },
    {
      "cell_type": "markdown",
      "source": [
        "### ImageBind"
      ],
      "metadata": {
        "id": "fi_smy1Cjr8_"
      }
    },
    {
      "cell_type": "markdown",
      "source": [
        "ImageBind uses image-paired data for training -- (image, X) where X is one of text, audio, depth, IMU or thermal data.\n",
        "In particular, we initialize and freeze the image and text encoders using an OpenCLIP ViT-H encoder.\n",
        "We train audio embeddings using Audioset, depth embeddings using the SUN RGB-D dataset, IMU using the Ego4D dataset and thermal embeddings using the LLVIP dataset."
      ],
      "metadata": {
        "id": "i-0bu57gnj4l"
      }
    },
    {
      "cell_type": "markdown",
      "source": [
        "Теория: https://arxiv.org/abs/2305.05665\n"
      ],
      "metadata": {
        "id": "PtXKGayGju_Q"
      }
    },
    {
      "cell_type": "markdown",
      "source": [
        "Код: https://github.com/facebookresearch/ImageBind"
      ],
      "metadata": {
        "id": "zTHovqu5j4UH"
      }
    },
    {
      "cell_type": "markdown",
      "source": [
        "Демо: https://imagebind.metademolab.com/demo"
      ],
      "metadata": {
        "id": "09DPTOc8kH6x"
      }
    }
  ]
}